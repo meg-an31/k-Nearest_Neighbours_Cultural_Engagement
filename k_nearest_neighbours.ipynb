{
  "nbformat": 4,
  "nbformat_minor": 0,
  "metadata": {
    "colab": {
      "provenance": [],
      "authorship_tag": "ABX9TyNefOlix4xt8yle1Aano4Lj",
      "include_colab_link": true
    },
    "kernelspec": {
      "name": "python3",
      "display_name": "Python 3"
    },
    "language_info": {
      "name": "python"
    }
  },
  "cells": [
    {
      "cell_type": "markdown",
      "metadata": {
        "id": "view-in-github",
        "colab_type": "text"
      },
      "source": [
        "<a href=\"https://colab.research.google.com/github/meg-an31/k-Nearest_Neighbours_Cultural_Engagement/blob/main/k_nearest_neighbours.ipynb\" target=\"_parent\"><img src=\"https://colab.research.google.com/assets/colab-badge.svg\" alt=\"Open In Colab\"/></a>"
      ]
    },
    {
      "cell_type": "code",
      "source": [
        "import math\n",
        "import csv\n",
        "\n",
        "class Point:\n",
        "  def __init__(self, x, y, percent = None):\n",
        "    self.x = x # online engagement\n",
        "    self.y = y # funding\n",
        "    self.percent = percent\n",
        "\n",
        "  def get_distance(self, p):\n",
        "    if p.x == math.inf:\n",
        "      return math.inf\n",
        "    return math.sqrt((self.x-p.x)**2 + (self.y-p.y)**2)\n",
        "\n",
        "def find_k_nearest(p1, point_set, k):\n",
        "  nearest = [Point(math.inf, math.inf, 0)]\n",
        "  for p in point_set:\n",
        "    in_nearest = False\n",
        "    i = -1\n",
        "    while not in_nearest and i + 1 < len(nearest):\n",
        "      i += 1\n",
        "      if p1.get_distance(p) < p1.get_distance(nearest[i]):\n",
        "        nearest.insert(i, p)\n",
        "        in_nearest = True\n",
        "    if len(nearest) > k:\n",
        "      nearest.pop()\n",
        "    elif len(nearest) < k:\n",
        "      nearest.append(p)\n",
        "\n",
        "  return nearest\n",
        "\n",
        "def get_avg_percent(p1, point_set):\n",
        "  avg_percent = 0\n",
        "  distance_sum = 0\n",
        "  for p in point_set:\n",
        "    avg_percent += (p1.get_distance(p) * p.percent)\n",
        "    distance_sum += p1.get_distance(p)\n",
        "  avg_percent = avg_percent / distance_sum\n",
        "  reference_distance = 3 * point_set[0].get_distance(point_set[-1])\n",
        "  if reference_distance < (distance_sum / len(point_set)):\n",
        "    print(\"\"\"\n",
        "    Warning: the distance from your value and other existing values is very far\n",
        "    from the range of values in data, so your results may be incorrect or unrealistic.\n",
        "    \"\"\")\n",
        "  return avg_percent\n",
        "\n",
        "data = {'Heritage': {}, 'Arts': {}, 'Libraries': {}}\n",
        "\n",
        "with open('heritage_data.csv', newline='') as myData:\n",
        "  csvreader = csv.reader(myData, delimiter=',', quotechar='|')\n",
        "  next(csvreader, None)\n",
        "  for row in csvreader:\n",
        "    if not(row[2] in list(data['Heritage'].keys())):\n",
        "      data['Heritage'][row[2]] = []\n",
        "    data['Heritage'][row[2]].append(Point(float(row[1]), float(row[3]), float(row[0])))\n",
        "\n",
        "with open('museums_data.csv', newline='') as myData:\n",
        "  csvreader = csv.reader(myData, delimiter=',', quotechar='|')\n",
        "  next(csvreader, None)\n",
        "  for row in csvreader:\n",
        "    if not(row[2] in list(data['Heritage'].keys())):\n",
        "      data['Museums'][row[2]] = []\n",
        "    data['Museums'][row[2]].append(Point(float(row[1]), float(row[3]), float(row[0])))\n",
        "\n",
        "with open('libraries_data.csv', newline='') as myData:\n",
        "  csvreader = csv.reader(myData, delimiter=',', quotechar='|')\n",
        "  next(csvreader, None)\n",
        "  for row in csvreader:\n",
        "    if row[2] not in list(data['Libraries'].keys()):\n",
        "      data['Libraries'][row[2]] = []\n",
        "    data['Libraries'][row[2]].append(Point(float(row[1]), float(row[3]), float(row[0])))\n",
        "\n",
        "with open('arts_data.csv', newline='') as myData:\n",
        "  csvreader = csv.reader(myData, delimiter=',', quotechar='|')\n",
        "  next(csvreader, None)\n",
        "  for row in csvreader:\n",
        "    if row[2] not in list(data['Arts'].keys()):\n",
        "      data['Arts'][row[2]] = []\n",
        "    data['Arts'][row[2]].append(Point(float(row[1]), float(row[3]), float(row[0])))\n",
        "\n",
        "\n",
        "def estimate_engagement(online_percent, funding, engagement_type, location):\n",
        "  p = Point(online_percent, funding)\n",
        "  return round(get_avg_percent(p, find_k_nearest(p, data[engagement_type][location], 3)),1)\n",
        "\n"
      ],
      "metadata": {
        "id": "BAvT1wVJ2n46",
        "cellView": "code"
      },
      "execution_count": 32,
      "outputs": []
    },
    {
      "cell_type": "code",
      "source": [
        "engagement_type = \"Libraries\" # @param [\"Libraries\",\"Arts\",\"Heritage\",\"Museums\"]\n",
        "funding_value = 2 # @param {\"type\":\"integer\"}\n",
        "online_engagement_percent = 0 # @param {\"type\":\"slider\",\"min\":0,\"max\":100,\"step\":1}\n",
        "location = \"North West (England)\" # @param [\"South East (England)\",\"East Midlands (England)\",\"South West (England)\",\"North West (England)\",\"London\",\"East\",\"Yorkshire and The Humber\",\"North East (England)\",\"West Midlands (England)\"]\n",
        "\n",
        "\n",
        "print(f\"{estimate_engagement(online_engagement_percent, funding_value, engagement_type, location) }% of people are estimated to engage with this under your conditions\")"
      ],
      "metadata": {
        "colab": {
          "base_uri": "https://localhost:8080/"
        },
        "id": "gAo52GubgCC8",
        "outputId": "dd22b8ce-4e97-49ee-e2e7-f7b8a90b5fb2"
      },
      "execution_count": 34,
      "outputs": [
        {
          "output_type": "stream",
          "name": "stdout",
          "text": [
            "15.9% of people are estimated to engage with this under your conditions\n"
          ]
        }
      ]
    }
  ]
}
